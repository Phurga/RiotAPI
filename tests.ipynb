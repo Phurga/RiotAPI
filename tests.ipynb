{
 "cells": [
  {
   "cell_type": "markdown",
   "metadata": {},
   "source": [
    "recuperer pour chaque game, le score, le nom du champion, et l'issue du match"
   ]
  },
  {
   "cell_type": "code",
   "execution_count": 28,
   "metadata": {},
   "outputs": [],
   "source": [
    "from data_functions import read_pkl, MATCH_INFO_PATH\n",
    "\n",
    "all_matches_data = read_pkl(MATCH_INFO_PATH)\n",
    "my_puuid = \"X6eorlmrPyiYOP5tJ2eq7vBZistPMAnKA2-JKpBiRvlTSETpLb0bCxDso5H8vax78nCOzLElKaOvgg\""
   ]
  },
  {
   "cell_type": "code",
   "execution_count": 31,
   "metadata": {},
   "outputs": [
    {
     "ename": "KeyError",
     "evalue": "'championName'",
     "output_type": "error",
     "traceback": [
      "\u001b[1;31m---------------------------------------------------------------------------\u001b[0m",
      "\u001b[1;31mKeyError\u001b[0m                                  Traceback (most recent call last)",
      "Cell \u001b[1;32mIn[31], line 13\u001b[0m\n\u001b[0;32m     11\u001b[0m     \u001b[38;5;28;01mcontinue\u001b[39;00m\n\u001b[0;32m     12\u001b[0m player_data \u001b[38;5;241m=\u001b[39m player_data[\u001b[38;5;124m'\u001b[39m\u001b[38;5;124mchallenges\u001b[39m\u001b[38;5;124m'\u001b[39m]\n\u001b[1;32m---> 13\u001b[0m champion_name \u001b[38;5;241m=\u001b[39m \u001b[43mplayer_data\u001b[49m\u001b[43m[\u001b[49m\u001b[38;5;124;43m'\u001b[39;49m\u001b[38;5;124;43mchampionName\u001b[39;49m\u001b[38;5;124;43m'\u001b[39;49m\u001b[43m]\u001b[49m\n\u001b[0;32m     14\u001b[0m \u001b[38;5;28;01mif\u001b[39;00m champion_name \u001b[38;5;129;01mnot\u001b[39;00m \u001b[38;5;129;01min\u001b[39;00m champions_highlights:\n\u001b[0;32m     15\u001b[0m     champions_highlights\u001b[38;5;241m.\u001b[39mupdate({champion_name: {key: player_data[key] \u001b[38;5;28;01mfor\u001b[39;00m key \u001b[38;5;129;01min\u001b[39;00m max_stats}})\n",
      "\u001b[1;31mKeyError\u001b[0m: 'championName'"
     ]
    }
   ],
   "source": [
    "champions_highlights = dict()\n",
    "max_stats = ['pentaKills', 'totalDamageDealtToChampions', 'skillshotsDodged', 'kills', 'deathsByEnemyChamps', 'damagePerMinute', 'teamDamagePercentage', 'goldEarned']\n",
    "total_stats = ['pentaKills']\n",
    "boolean_stats = ['win']\n",
    "categorical_stats = ['role']\n",
    "\n",
    "for k in range(len(all_matches_data)):\n",
    "    match_data = next(iter(all_matches_data[k].values()))\n",
    "    for player_data in match_data['info']['participants']:\n",
    "        if player_data['puuid'] != my_puuid:\n",
    "            continue\n",
    "        player_data = player_data['challenges']\n",
    "        champion_name = player_data['championName']\n",
    "        if champion_name not in champions_highlights:\n",
    "            champions_highlights.update({champion_name: {key: player_data[key] for key in max_stats}})\n",
    "            for key in total_stats:\n",
    "                champions_highlights['champion_name'][f'total_{key}'] = player_data[key]\n",
    "        else:\n",
    "            for key in max_stats:\n",
    "                if champions_highlights['champion_name'][key] < player_data[key]: player_data[key]\n",
    "            for key in total_stats:\n",
    "                champions_highlights['champion_name'][f'total_{key}'] += player_data[key]\n",
    "\n",
    "\n",
    "champions_highlights.keys()"
   ]
  },
  {
   "cell_type": "code",
   "execution_count": null,
   "metadata": {},
   "outputs": [],
   "source": []
  }
 ],
 "metadata": {
  "kernelspec": {
   "display_name": "notebooks",
   "language": "python",
   "name": "python3"
  },
  "language_info": {
   "codemirror_mode": {
    "name": "ipython",
    "version": 3
   },
   "file_extension": ".py",
   "mimetype": "text/x-python",
   "name": "python",
   "nbconvert_exporter": "python",
   "pygments_lexer": "ipython3",
   "version": "3.12.3"
  }
 },
 "nbformat": 4,
 "nbformat_minor": 2
}
