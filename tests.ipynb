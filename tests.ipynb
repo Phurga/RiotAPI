{
 "cells": [
  {
   "cell_type": "code",
   "execution_count": 7,
   "metadata": {},
   "outputs": [
    {
     "ename": "FileNotFoundError",
     "evalue": "[Errno 2] No such file or directory: 'data/highlights_Aram%20Bagarre_EUW.pkl'",
     "output_type": "error",
     "traceback": [
      "\u001b[1;31m---------------------------------------------------------------------------\u001b[0m",
      "\u001b[1;31mFileNotFoundError\u001b[0m                         Traceback (most recent call last)",
      "Cell \u001b[1;32mIn[7], line 4\u001b[0m\n\u001b[0;32m      1\u001b[0m \u001b[38;5;28;01mfrom\u001b[39;00m \u001b[38;5;21;01mdata_functions\u001b[39;00m \u001b[38;5;28;01mimport\u001b[39;00m read_pkl, HIGHLIGHTS_PATH\n\u001b[0;32m      2\u001b[0m \u001b[38;5;28;01mfrom\u001b[39;00m \u001b[38;5;21;01mProfiles\u001b[39;00m \u001b[38;5;28;01mimport\u001b[39;00m ADRIEN\n\u001b[1;32m----> 4\u001b[0m highlights_data \u001b[38;5;241m=\u001b[39m \u001b[43mread_pkl\u001b[49m\u001b[43m(\u001b[49m\u001b[43mHIGHLIGHTS_PATH\u001b[49m\u001b[38;5;241;43m+\u001b[39;49m\u001b[43mADRIEN\u001b[49m\u001b[38;5;241;43m.\u001b[39;49m\u001b[43msuffix\u001b[49m\u001b[43m)\u001b[49m\n",
      "File \u001b[1;32mc:\\Users\\Adrien\\Documents\\Code\\RiotAPI\\data_functions.py:15\u001b[0m, in \u001b[0;36mread_pkl\u001b[1;34m(path)\u001b[0m\n\u001b[0;32m     14\u001b[0m \u001b[38;5;28;01mdef\u001b[39;00m \u001b[38;5;21mread_pkl\u001b[39m(path):\n\u001b[1;32m---> 15\u001b[0m     \u001b[38;5;28;01mwith\u001b[39;00m \u001b[38;5;28;43mopen\u001b[39;49m\u001b[43m(\u001b[49m\u001b[43mpath\u001b[49m\u001b[38;5;241;43m+\u001b[39;49m\u001b[38;5;124;43m'\u001b[39;49m\u001b[38;5;124;43m.pkl\u001b[39;49m\u001b[38;5;124;43m'\u001b[39;49m\u001b[43m,\u001b[49m\u001b[43m \u001b[49m\u001b[38;5;124;43m'\u001b[39;49m\u001b[38;5;124;43mrb\u001b[39;49m\u001b[38;5;124;43m'\u001b[39;49m\u001b[43m)\u001b[49m \u001b[38;5;28;01mas\u001b[39;00m f:\n\u001b[0;32m     16\u001b[0m         \u001b[38;5;28;01mreturn\u001b[39;00m pickle\u001b[38;5;241m.\u001b[39mload(f)\n",
      "\u001b[1;31mFileNotFoundError\u001b[0m: [Errno 2] No such file or directory: 'data/highlights_Aram%20Bagarre_EUW.pkl'"
     ]
    }
   ],
   "source": [
    "from data_functions import read_pkl, HIGHLIGHTS_PATH\n",
    "from Profiles import ADRIEN\n",
    "\n",
    "highlights_data = read_pkl(HIGHLIGHTS_PATH+ADRIEN.suffix)"
   ]
  },
  {
   "cell_type": "markdown",
   "metadata": {},
   "source": [
    "plot champ use rate\n",
    "plot champs per max dmg percent\n",
    "show champs with pentakills"
   ]
  },
  {
   "cell_type": "code",
   "execution_count": 3,
   "metadata": {},
   "outputs": [
    {
     "data": {
      "text/plain": [
       "152"
      ]
     },
     "execution_count": 3,
     "metadata": {},
     "output_type": "execute_result"
    }
   ],
   "source": [
    "len({highlights_data})"
   ]
  },
  {
   "cell_type": "code",
   "execution_count": 11,
   "metadata": {},
   "outputs": [
    {
     "name": "stdout",
     "output_type": "stream",
     "text": [
      "Graves: 1\n",
      "Warwick: 1\n",
      "Rumble: 1\n",
      "Renekton: 1\n"
     ]
    }
   ],
   "source": [
    "#show champs with pentas*\n",
    "print('pentakills:')\n",
    "for champion, data in highlights_data.items():\n",
    "    if data['total_pentaKills'] > 0:\n",
    "        print(champion + ': ' + str(data['total_pentaKills']))"
   ]
  },
  {
   "cell_type": "code",
   "execution_count": 17,
   "metadata": {},
   "outputs": [
    {
     "name": "stdout",
     "output_type": "stream",
     "text": [
      "teamDamagePercentage:\n",
      "{'Lucian': 0.40536939995971005, 'Corki': 0.392020482604369, 'Brand': 0.3836708296041983, 'Nunu': 0.3607554249230256, 'Jax': 0.35495422366442797, 'Fiora': 0.3429772209827729, 'Varus': 0.3383314144173711, 'Talon': 0.33582728211477353, 'Katarina': 0.3339664866803133, 'Gangplank': 0.32934855518885386, 'Quinn': 0.3274853282868037, 'MonkeyKing': 0.32595285508008875, 'Akali': 0.32214090080832514, 'Twitch': 0.3205091966856966, 'Taliyah': 0.31917827436993707, 'Rumble': 0.31688011365898233, 'Zeri': 0.3153203493850329, 'Jayce': 0.3150757534486563, 'MissFortune': 0.31301400371343413, 'Graves': 0.3117968639476827, 'Nilah': 0.30978070194165264, 'Tristana': 0.3087950136219342, 'Evelynn': 0.30778042294281915, 'Kindred': 0.30727875485952505, 'Caitlyn': 0.3068200995264734, 'Morgana': 0.3068164293013331, 'Aatrox': 0.3038309963086644, 'Velkoz': 0.3011412147028778, 'Yone': 0.2989198129354496, 'Renekton': 0.29765048170385333, 'KogMaw': 0.2875151217964215, 'Gragas': 0.28106203155264753, 'Hecarim': 0.2785240094381476, 'Xayah': 0.27690191093959265, 'Teemo': 0.2743629401550625, 'Sivir': 0.27386120587835017, 'Khazix': 0.27254621465355733, 'Heimerdinger': 0.2714192715317534, 'Zac': 0.2698326851067713, 'Camille': 0.2689160011654053, 'Karma': 0.2657479941710836, 'Ekko': 0.2651873824095638, 'Karthus': 0.2651803953069009, 'Jhin': 0.2628503432550033, 'Leblanc': 0.26066612270426537, 'Sett': 0.26021288665997205, 'Ziggs': 0.2574347930693679, 'FiddleSticks': 0.25735706945535514, 'Vayne': 0.25694677760267515, 'LeeSin': 0.2568114444246325, 'Fizz': 0.25595471947977233, 'Zyra': 0.25549020402540223, 'Zed': 0.25483525194726675, 'Vladimir': 0.2519417334434312, 'Garen': 0.24783912217691403, 'Malphite': 0.24769199721679883, 'Poppy': 0.24767490159453395, 'Darius': 0.24594548524436258, 'Vi': 0.24580484343680414, 'JarvanIV': 0.24566098742292167, 'Warwick': 0.24347940584857208, 'Sion': 0.24276553572902385, 'Shen': 0.24182697725040622, 'Smolder': 0.24021967739811237, 'Ezreal': 0.23938260554820381, 'Singed': 0.23676949630325456, 'Draven': 0.23665373066591866, 'Nocturne': 0.2357241320084121, 'Pyke': 0.23433278624404802, 'Rengar': 0.23400379191557602, 'Volibear': 0.23305957930358925, 'MasterYi': 0.23220480922192174, 'Gwen': 0.23183392993267046, 'Skarner': 0.23133778468208896, 'Shaco': 0.23072919151710272, 'Bard': 0.22983538742246865, 'Viego': 0.22905349297387245, 'Rammus': 0.22704585317825454, 'Ryze': 0.2267194917872714, 'Yasuo': 0.22575217538817302, 'Olaf': 0.22481581709573142, 'Orianna': 0.22462559745528793, 'Belveth': 0.22359309280054027, 'RekSai': 0.2233508698917796, 'Galio': 0.22320409590831564, 'Gnar': 0.22201435281439177, 'Yorick': 0.2209966871500852, 'Ashe': 0.2207458347658698, 'Vex': 0.22038660722836836, 'TahmKench': 0.21873991500407428, 'Ahri': 0.21831167402148616, 'Kaisa': 0.21812227019156594, 'Chogath': 0.21624958747348705, 'DrMundo': 0.21506922989772134, 'TwistedFate': 0.20935856549487936, 'Diana': 0.2078464620949131, 'Lux': 0.20687536319637886, 'Kassadin': 0.20567664736397448, 'Kennen': 0.20477887339178993, 'Shyvana': 0.2040177419364772, 'Syndra': 0.20394540690186685, 'XinZhao': 0.2032245122015992, 'Tryndamere': 0.19941792734056338, 'Aphelios': 0.19917069740490206, 'Seraphine': 0.19785994509053462, 'Kled': 0.1957993421364704, 'Blitzcrank': 0.19529557419078217, 'Kayn': 0.19500176994475307, 'Sejuani': 0.19391626556683664, 'Lissandra': 0.1937856358158721, 'AurelionSol': 0.18740717853141906, 'Swain': 0.1846470588751848, 'Ornn': 0.18193654244400223, 'Mordekaiser': 0.18124393269933467, 'Nidalee': 0.18113802981975724, 'Nasus': 0.17980373143839265, 'Maokai': 0.1787657133121267, 'Amumu': 0.1755396590122986, 'Jinx': 0.17546980847296154, 'Senna': 0.17365575698419167, 'Azir': 0.17251539493455403, 'Kayle': 0.17248264242584216, 'Veigar': 0.17112420048837912, 'Irelia': 0.17088548563744022, 'Illaoi': 0.16903793390875332, 'Naafiri': 0.16432526475805587, 'Cassiopeia': 0.16429762799786624, 'Trundle': 0.16334929507266352, 'Pantheon': 0.16225853802591322, 'Thresh': 0.16106148094453407, 'Zilean': 0.15984974826257048, 'Anivia': 0.15800999905673457, 'Akshan': 0.15675992805944175, 'Lillia': 0.15486520531600542, 'Renata': 0.1507014739128834, 'Sylas': 0.14312328808893052, 'Nautilus': 0.14120830421381328, 'KSante': 0.13318849780689182, 'Braum': 0.12396174124597188, 'Leona': 0.1234525947279838, 'Alistar': 0.12124946734170153, 'Urgot': 0.1170792810237356, 'Rell': 0.11375589798343703, 'Udyr': 0.11221913647598059, 'Rakan': 0.1026132138661572, 'Ivern': 0.10097140435662598, 'Soraka': 0.09984572203727822, 'Nami': 0.09577449803921334, 'Taric': 0.09267157387400264, 'Sona': 0.08920993504181562, 'Lulu': 0.08282697259171407, 'Milio': 0.0809172569477377}\n"
     ]
    }
   ],
   "source": [
    "#show most team dmg\n",
    "stat = 'teamDamagePercentage'\n",
    "extract = {champion: highlights_data[champion][stat] for champion in highlights_data}\n",
    "print(stat +':')\n",
    "print({k: v for k, v in sorted(extract.items(), key=lambda item: item[1], reverse=True)})"
   ]
  },
  {
   "cell_type": "code",
   "execution_count": 4,
   "metadata": {},
   "outputs": [
    {
     "data": {
      "text/plain": [
       "0"
      ]
     },
     "execution_count": 4,
     "metadata": {},
     "output_type": "execute_result"
    }
   ],
   "source": [
    "False * 1"
   ]
  },
  {
   "cell_type": "code",
   "execution_count": 6,
   "metadata": {},
   "outputs": [
    {
     "name": "stdout",
     "output_type": "stream",
     "text": [
      "{'start': 1, 'count': 2, 'queue': None}\n"
     ]
    }
   ],
   "source": [
    "def func(**kwargs):\n",
    "    return kwargs\n",
    "print(func(start=1, count=2, queue=None))"
   ]
  },
  {
   "cell_type": "code",
   "execution_count": 8,
   "metadata": {},
   "outputs": [
    {
     "name": "stdout",
     "output_type": "stream",
     "text": [
      "False\n",
      "True\n"
     ]
    }
   ],
   "source": [
    "d = {}\n",
    "print('a' in d)\n",
    "d['a'] = 1\n",
    "print('a' in d)"
   ]
  },
  {
   "cell_type": "code",
   "execution_count": 9,
   "metadata": {},
   "outputs": [
    {
     "data": {
      "text/plain": [
       "['1', '2', '3', '4']"
      ]
     },
     "execution_count": 9,
     "metadata": {},
     "output_type": "execute_result"
    }
   ],
   "source": [
    "a = ['1', '2']\n",
    "b = ['3', '4']\n",
    "a+b"
   ]
  },
  {
   "cell_type": "code",
   "execution_count": 11,
   "metadata": {},
   "outputs": [],
   "source": [
    "val = '4'\n",
    "d[val] = 4"
   ]
  },
  {
   "cell_type": "code",
   "execution_count": null,
   "metadata": {},
   "outputs": [],
   "source": []
  }
 ],
 "metadata": {
  "kernelspec": {
   "display_name": "notebooks",
   "language": "python",
   "name": "python3"
  },
  "language_info": {
   "codemirror_mode": {
    "name": "ipython",
    "version": 3
   },
   "file_extension": ".py",
   "mimetype": "text/x-python",
   "name": "python",
   "nbconvert_exporter": "python",
   "pygments_lexer": "ipython3",
   "version": "3.12.3"
  }
 },
 "nbformat": 4,
 "nbformat_minor": 2
}
